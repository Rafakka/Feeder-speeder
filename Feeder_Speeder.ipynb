{
  "nbformat": 4,
  "nbformat_minor": 0,
  "metadata": {
    "colab": {
      "provenance": [],
      "authorship_tag": "ABX9TyNEH/Izm/Nt1j6BwUKaESWs",
      "include_colab_link": true
    },
    "kernelspec": {
      "name": "python3",
      "display_name": "Python 3"
    },
    "language_info": {
      "name": "python"
    }
  },
  "cells": [
    {
      "cell_type": "markdown",
      "metadata": {
        "id": "view-in-github",
        "colab_type": "text"
      },
      "source": [
        "<a href=\"https://colab.research.google.com/github/Rafakka/Feeder-speeder/blob/main/Feeder_Speeder.ipynb\" target=\"_parent\"><img src=\"https://colab.research.google.com/assets/colab-badge.svg\" alt=\"Open In Colab\"/></a>"
      ]
    },
    {
      "cell_type": "code",
      "execution_count": null,
      "metadata": {
        "id": "FXg4_BK9OFo1"
      },
      "outputs": [],
      "source": []
    },
    {
      "cell_type": "code",
      "execution_count": 1,
      "metadata": {
        "id": "9OEoeosRTv-5"
      },
      "outputs": [],
      "source": [
        "!pip install -q -U google-generativeai"
      ]
    },
    {
      "cell_type": "code",
      "execution_count": 2,
      "metadata": {
        "id": "TS9l5igubpHO"
      },
      "outputs": [],
      "source": [
        "import pathlib\n",
        "import textwrap\n",
        "\n",
        "import google.generativeai as genai\n",
        "\n",
        "from IPython.display import display\n",
        "from IPython.display import Markdown\n",
        "\n",
        "\n",
        "def to_markdown(text):\n",
        "  text = text.replace('•', '  *')\n",
        "  return Markdown(textwrap.indent(text, '> ', predicate=lambda _: True))"
      ]
    },
    {
      "cell_type": "code",
      "execution_count": 3,
      "metadata": {
        "id": "d10c38a5c91f"
      },
      "outputs": [],
      "source": [
        "# Used to securely store your API key\n",
        "from google.colab import userdata"
      ]
    },
    {
      "cell_type": "code",
      "source": [
        "for m in genai.list_models():\n",
        "  if 'generateContent' in m.supported_generation_methods:\n",
        "    print(m.name)"
      ],
      "metadata": {
        "colab": {
          "base_uri": "https://localhost:8080/",
          "height": 139
        },
        "id": "TIunSmxpVOJO",
        "outputId": "34c9d8a9-b57e-4b15-b55f-cae303db3202"
      },
      "execution_count": 14,
      "outputs": [
        {
          "output_type": "stream",
          "name": "stdout",
          "text": [
            "models/gemini-1.0-pro\n",
            "models/gemini-1.0-pro-001\n",
            "models/gemini-1.0-pro-latest\n",
            "models/gemini-1.0-pro-vision-latest\n",
            "models/gemini-1.5-pro-latest\n",
            "models/gemini-pro\n",
            "models/gemini-pro-vision\n"
          ]
        }
      ]
    },
    {
      "cell_type": "code",
      "execution_count": 31,
      "metadata": {
        "id": "ab9ASynfcIZn"
      },
      "outputs": [],
      "source": [
        "import google.generativeai as genai\n",
        "from google.colab import userdata\n",
        "api_key = userdata.get(\"SECRET_KEY\")\n",
        "genai.configure(api_key=api_key)"
      ]
    },
    {
      "cell_type": "code",
      "source": [
        "generation_config = {\n",
        "    \"candidate_count\": 1,\n",
        "    \"temperature\":0.5\n",
        "    }"
      ],
      "metadata": {
        "id": "38b1e7GEQbCW"
      },
      "execution_count": 6,
      "outputs": []
    },
    {
      "cell_type": "code",
      "source": [
        "safety_settings = {\n",
        "    \"HARASSMENT\":\"BLOCK_NONE\",\n",
        "    \"HATE\":\"BLOCK_NONE\",\n",
        "    \"SEXUAL\":\"BLOCK_NONE\",\n",
        "    \"DANGEROUS\":\"bLOCK_NONE\"\n",
        "}"
      ],
      "metadata": {
        "id": "9hdVd_b2RDQ1"
      },
      "execution_count": 7,
      "outputs": []
    },
    {
      "cell_type": "code",
      "execution_count": 15,
      "metadata": {
        "id": "2bcfnGEviwTI"
      },
      "outputs": [],
      "source": [
        "model = genai.GenerativeModel(model_name=\"gemini-1.0-pro\",\n",
        "                              generation_config=generation_config,\n",
        "                              safety_settings=safety_settings)"
      ]
    },
    {
      "cell_type": "code",
      "execution_count": null,
      "metadata": {
        "id": "he-OfzBbhACQ"
      },
      "outputs": [],
      "source": [
        "%%time\n",
        "response = model.generate_content(\"Há uma versão com cortes para se assistir grey anatomy em um tempo menor?\")\n",
        "print(response.text)"
      ]
    },
    {
      "cell_type": "code",
      "source": [
        "chat = model.start_chat(history=[])"
      ],
      "metadata": {
        "id": "cIQTZDlnWbO4"
      },
      "execution_count": 17,
      "outputs": []
    },
    {
      "cell_type": "code",
      "source": [
        "prompt =input(\"Vamos conversar:\")\n",
        "\n",
        "while prompt != \"fim\":\n",
        "  response = chat.send_message(prompt)\n",
        "  print(\"Resposta: \", response.text, \"/n\" )\n",
        ""
      ],
      "metadata": {
        "colab": {
          "base_uri": "https://localhost:8080/",
          "height": 394
        },
        "id": "XXowst6HYdYl",
        "outputId": "aa67e9ae-673f-4a0e-b24e-60e85ab4e865"
      },
      "execution_count": 19,
      "outputs": [
        {
          "output_type": "error",
          "ename": "KeyboardInterrupt",
          "evalue": "Interrupted by user",
          "traceback": [
            "\u001b[0;31m---------------------------------------------------------------------------\u001b[0m",
            "\u001b[0;31mKeyboardInterrupt\u001b[0m                         Traceback (most recent call last)",
            "\u001b[0;32m<ipython-input-19-132f3d8a9ba2>\u001b[0m in \u001b[0;36m<cell line: 1>\u001b[0;34m()\u001b[0m\n\u001b[0;32m----> 1\u001b[0;31m \u001b[0mprompt\u001b[0m \u001b[0;34m=\u001b[0m\u001b[0minput\u001b[0m\u001b[0;34m(\u001b[0m\u001b[0;34m\"Vamos conversar:\"\u001b[0m\u001b[0;34m)\u001b[0m\u001b[0;34m\u001b[0m\u001b[0;34m\u001b[0m\u001b[0m\n\u001b[0m",
            "\u001b[0;32m/usr/local/lib/python3.10/dist-packages/ipykernel/kernelbase.py\u001b[0m in \u001b[0;36mraw_input\u001b[0;34m(self, prompt)\u001b[0m\n\u001b[1;32m    849\u001b[0m                 \u001b[0;34m\"raw_input was called, but this frontend does not support input requests.\"\u001b[0m\u001b[0;34m\u001b[0m\u001b[0;34m\u001b[0m\u001b[0m\n\u001b[1;32m    850\u001b[0m             )\n\u001b[0;32m--> 851\u001b[0;31m         return self._input_request(str(prompt),\n\u001b[0m\u001b[1;32m    852\u001b[0m             \u001b[0mself\u001b[0m\u001b[0;34m.\u001b[0m\u001b[0m_parent_ident\u001b[0m\u001b[0;34m,\u001b[0m\u001b[0;34m\u001b[0m\u001b[0;34m\u001b[0m\u001b[0m\n\u001b[1;32m    853\u001b[0m             \u001b[0mself\u001b[0m\u001b[0;34m.\u001b[0m\u001b[0m_parent_header\u001b[0m\u001b[0;34m,\u001b[0m\u001b[0;34m\u001b[0m\u001b[0;34m\u001b[0m\u001b[0m\n",
            "\u001b[0;32m/usr/local/lib/python3.10/dist-packages/ipykernel/kernelbase.py\u001b[0m in \u001b[0;36m_input_request\u001b[0;34m(self, prompt, ident, parent, password)\u001b[0m\n\u001b[1;32m    893\u001b[0m             \u001b[0;32mexcept\u001b[0m \u001b[0mKeyboardInterrupt\u001b[0m\u001b[0;34m:\u001b[0m\u001b[0;34m\u001b[0m\u001b[0;34m\u001b[0m\u001b[0m\n\u001b[1;32m    894\u001b[0m                 \u001b[0;31m# re-raise KeyboardInterrupt, to truncate traceback\u001b[0m\u001b[0;34m\u001b[0m\u001b[0;34m\u001b[0m\u001b[0m\n\u001b[0;32m--> 895\u001b[0;31m                 \u001b[0;32mraise\u001b[0m \u001b[0mKeyboardInterrupt\u001b[0m\u001b[0;34m(\u001b[0m\u001b[0;34m\"Interrupted by user\"\u001b[0m\u001b[0;34m)\u001b[0m \u001b[0;32mfrom\u001b[0m \u001b[0;32mNone\u001b[0m\u001b[0;34m\u001b[0m\u001b[0;34m\u001b[0m\u001b[0m\n\u001b[0m\u001b[1;32m    896\u001b[0m             \u001b[0;32mexcept\u001b[0m \u001b[0mException\u001b[0m \u001b[0;32mas\u001b[0m \u001b[0me\u001b[0m\u001b[0;34m:\u001b[0m\u001b[0;34m\u001b[0m\u001b[0;34m\u001b[0m\u001b[0m\n\u001b[1;32m    897\u001b[0m                 \u001b[0mself\u001b[0m\u001b[0;34m.\u001b[0m\u001b[0mlog\u001b[0m\u001b[0;34m.\u001b[0m\u001b[0mwarning\u001b[0m\u001b[0;34m(\u001b[0m\u001b[0;34m\"Invalid Message:\"\u001b[0m\u001b[0;34m,\u001b[0m \u001b[0mexc_info\u001b[0m\u001b[0;34m=\u001b[0m\u001b[0;32mTrue\u001b[0m\u001b[0;34m)\u001b[0m\u001b[0;34m\u001b[0m\u001b[0;34m\u001b[0m\u001b[0m\n",
            "\u001b[0;31mKeyboardInterrupt\u001b[0m: Interrupted by user"
          ]
        }
      ]
    },
    {
      "cell_type": "code",
      "source": [
        "prompt =input(\"Vamos conversar:\")\n",
        "\n",
        "while prompt != \"fim\":\n",
        "  response = chat.send_message(prompt)\n",
        "  print(\"Resposta: \", response.text, \"\\n\" )\n",
        "  prompt =input(\"Vamos conversar:\")"
      ],
      "metadata": {
        "colab": {
          "base_uri": "https://localhost:8080/",
          "height": 245
        },
        "outputId": "776414f6-c19d-4fa9-9f3a-2854945b5ef1",
        "id": "QoVMYKH-aIxB"
      },
      "execution_count": 27,
      "outputs": [
        {
          "name": "stdout",
          "output_type": "stream",
          "text": [
            "Vamos conversar:porque walt disney não gosta do pateta?\n",
            "Resposta:  Não há evidências de que Walt Disney não gostasse do Pateta. Na verdade, o Pateta foi um dos personagens favoritos de Disney e desempenhou um papel importante em muitos dos primeiros filmes e desenhos animados da Disney.\n",
            "\n",
            "O Pateta foi criado em 1932 por Walt Disney e Ub Iwerks. Ele foi originalmente chamado de \"Dippy Dawg\", mas seu nome foi posteriormente alterado para \"Goofy\". O Pateta rapidamente se tornou um personagem popular entre o público e apareceu em mais de 100 filmes e desenhos animados da Disney.\n",
            "\n",
            "Embora o Pateta às vezes fosse retratado como um pouco desajeitado e esquecido, ele sempre foi um personagem leal e bondoso. Ele era um amigo próximo do Mickey Mouse e do Pato Donald, e muitas vezes ajudava-os em suas aventuras.\n",
            "\n",
            "Walt Disney teria dito uma vez: \"O Pateta é o meu alter ego. Ele é a parte de mim que gostaria de ser, mas não consigo.\"\n",
            "\n",
            "Portanto, não há razão para acreditar que Walt Disney não gostasse do Pateta. Na verdade, todas as evidências sugerem que ele tinha muito carinho pelo personagem. \n",
            "\n",
            "Vamos conversar:fim\n"
          ]
        }
      ]
    },
    {
      "cell_type": "code",
      "execution_count": 28,
      "metadata": {
        "id": "dAcbPBocgzeX",
        "colab": {
          "base_uri": "https://localhost:8080/",
          "height": 1000
        },
        "outputId": "0760ceae-f8a6-4dfc-c79f-6ca71bc19fdc"
      },
      "outputs": [
        {
          "output_type": "display_data",
          "data": {
            "text/plain": [
              "<IPython.core.display.Markdown object>"
            ],
            "text/markdown": "> **user**: ola"
          },
          "metadata": {}
        },
        {
          "output_type": "stream",
          "name": "stdout",
          "text": [
            "-------------------------------------------\n"
          ]
        },
        {
          "output_type": "display_data",
          "data": {
            "text/plain": [
              "<IPython.core.display.Markdown object>"
            ],
            "text/markdown": "> **model**: Olá, como posso ajudá-lo hoje?"
          },
          "metadata": {}
        },
        {
          "output_type": "stream",
          "name": "stdout",
          "text": [
            "-------------------------------------------\n"
          ]
        },
        {
          "output_type": "display_data",
          "data": {
            "text/plain": [
              "<IPython.core.display.Markdown object>"
            ],
            "text/markdown": "> **user**: \\fim"
          },
          "metadata": {}
        },
        {
          "output_type": "stream",
          "name": "stdout",
          "text": [
            "-------------------------------------------\n"
          ]
        },
        {
          "output_type": "display_data",
          "data": {
            "text/plain": [
              "<IPython.core.display.Markdown object>"
            ],
            "text/markdown": "> **model**: Obrigado por usar nosso serviço. Volte sempre que precisar de ajuda."
          },
          "metadata": {}
        },
        {
          "output_type": "stream",
          "name": "stdout",
          "text": [
            "-------------------------------------------\n"
          ]
        },
        {
          "output_type": "display_data",
          "data": {
            "text/plain": [
              "<IPython.core.display.Markdown object>"
            ],
            "text/markdown": "> **user**: ola"
          },
          "metadata": {}
        },
        {
          "output_type": "stream",
          "name": "stdout",
          "text": [
            "-------------------------------------------\n"
          ]
        },
        {
          "output_type": "display_data",
          "data": {
            "text/plain": [
              "<IPython.core.display.Markdown object>"
            ],
            "text/markdown": "> **model**: Olá, bem-vindo de volta! Como posso ajudá-lo hoje?"
          },
          "metadata": {}
        },
        {
          "output_type": "stream",
          "name": "stdout",
          "text": [
            "-------------------------------------------\n"
          ]
        },
        {
          "output_type": "display_data",
          "data": {
            "text/plain": [
              "<IPython.core.display.Markdown object>"
            ],
            "text/markdown": "> **user**: onde é localizado a oceania?"
          },
          "metadata": {}
        },
        {
          "output_type": "stream",
          "name": "stdout",
          "text": [
            "-------------------------------------------\n"
          ]
        },
        {
          "output_type": "display_data",
          "data": {
            "text/plain": [
              "<IPython.core.display.Markdown object>"
            ],
            "text/markdown": "> **model**: A Oceania é um continente insular localizado no Oceano Pacífico. É composta por Austrália, Nova Zelândia, Papua Nova Guiné e milhares de ilhas menores. A Oceania é dividida em quatro regiões geográficas principais:\n> \n> * **Australásia:** Austrália, Nova Zelândia, Tasmânia e ilhas menores próximas.\n> * **Melanésia:** Papua Nova Guiné, Ilhas Salomão, Vanuatu, Fiji e Nova Caledônia.\n> * **Micronésia:** Ilhas Marianas, Guam, Palau, Estados Federados da Micronésia, Ilhas Marshall e Nauru.\n> * **Polinésia:** Havaí, Samoa, Tonga, Tuvalu, Kiribati e Polinésia Francesa.\n> \n> A Oceania é o menor continente em área terrestre, mas o maior em área oceânica. É também o continente mais isolado, com a Austrália sendo o único país continental."
          },
          "metadata": {}
        },
        {
          "output_type": "stream",
          "name": "stdout",
          "text": [
            "-------------------------------------------\n"
          ]
        },
        {
          "output_type": "display_data",
          "data": {
            "text/plain": [
              "<IPython.core.display.Markdown object>"
            ],
            "text/markdown": "> **user**: ela tem um comida tipica?"
          },
          "metadata": {}
        },
        {
          "output_type": "stream",
          "name": "stdout",
          "text": [
            "-------------------------------------------\n"
          ]
        },
        {
          "output_type": "display_data",
          "data": {
            "text/plain": [
              "<IPython.core.display.Markdown object>"
            ],
            "text/markdown": "> **model**: Sim, a Oceania tem várias comidas típicas, que variam dependendo da região. Aqui estão alguns exemplos:\n> \n> **Australásia:**\n> \n> * **Pavlova:** Uma sobremesa feita com merengue e frutas frescas, originária da Nova Zelândia.\n> * **Lamington:** Um bolo quadrado coberto com chocolate e coco ralado, originário da Austrália.\n> * **Anzac biscuits:** Biscoitos de aveia crocantes feitos com aveia, farinha, açúcar, manteiga e xarope dourado, originários da Austrália e da Nova Zelândia.\n> \n> **Melanésia:**\n> \n> * **Mumu:** Um prato tradicional cozido em um forno subterrâneo, feito com carne de porco, frango ou peixe envolto em folhas de bananeira.\n> * **Lap lap:** Um prato feito com taro ralado ou inhame misturado com leite de coco e cozido em folhas de bananeira.\n> * **Sagu:** Um pudim feito com pérolas de tapioca, leite de coco e açúcar.\n> \n> **Micronésia:**\n> \n> * **Red rice:** Arroz vermelho cozido com leite de coco e especiarias.\n> * **Sakau:** Uma bebida feita com a raiz da planta kava, que tem efeitos calmantes.\n> * **Pan de coco:** Pão doce feito com coco ralado, farinha e leite de coco.\n> \n> **Polinésia:**\n> \n> * **Poi:** Um prato básico feito com inhame ou taro cozido e amassado.\n> * **Oka:** Um prato feito com polvo cru marinado em suco de limão e leite de coco.\n> * **Pani popo:** Um pão doce feito com massa fermentada e cozido em folhas de bananeira.\n> \n> Estes são apenas alguns exemplos da vasta gama de comidas típicas encontradas na Oceania."
          },
          "metadata": {}
        },
        {
          "output_type": "stream",
          "name": "stdout",
          "text": [
            "-------------------------------------------\n"
          ]
        },
        {
          "output_type": "display_data",
          "data": {
            "text/plain": [
              "<IPython.core.display.Markdown object>"
            ],
            "text/markdown": "> **user**: porque a linguagem python tem esse nome?"
          },
          "metadata": {}
        },
        {
          "output_type": "stream",
          "name": "stdout",
          "text": [
            "-------------------------------------------\n"
          ]
        },
        {
          "output_type": "display_data",
          "data": {
            "text/plain": [
              "<IPython.core.display.Markdown object>"
            ],
            "text/markdown": "> **model**: A linguagem de programação Python recebeu o nome da série de televisão britânica \"Monty Python's Flying Circus\". O criador da linguagem, Guido van Rossum, era fã do programa e achou o nome \"Python\" adequado porque é curto, único e um pouco misterioso.\n> \n> Além disso, Python é uma cobra grande e poderosa, e van Rossum queria que sua linguagem de programação fosse poderosa e versátil. Ele também gostou do fato de que Python é uma palavra fácil de pronunciar e soletrar em diferentes idiomas.\n> \n> O nome Python também se encaixa bem com a filosofia da linguagem. Python é conhecida por sua simplicidade, legibilidade e facilidade de aprendizado. Assim como as cobras pítons são conhecidas por sua capacidade de se adaptar a diferentes ambientes, Python é uma linguagem versátil que pode ser usada para uma ampla gama de tarefas."
          },
          "metadata": {}
        },
        {
          "output_type": "stream",
          "name": "stdout",
          "text": [
            "-------------------------------------------\n"
          ]
        },
        {
          "output_type": "display_data",
          "data": {
            "text/plain": [
              "<IPython.core.display.Markdown object>"
            ],
            "text/markdown": "> **user**: porque walt disney não gosta do pateta?"
          },
          "metadata": {}
        },
        {
          "output_type": "stream",
          "name": "stdout",
          "text": [
            "-------------------------------------------\n"
          ]
        },
        {
          "output_type": "display_data",
          "data": {
            "text/plain": [
              "<IPython.core.display.Markdown object>"
            ],
            "text/markdown": "> **model**: Não há evidências de que Walt Disney não gostasse do Pateta. Na verdade, o Pateta foi um dos personagens favoritos de Disney e desempenhou um papel importante em muitos dos primeiros filmes e desenhos animados da Disney.\n> \n> O Pateta foi criado em 1932 por Walt Disney e Ub Iwerks. Ele foi originalmente chamado de \"Dippy Dawg\", mas seu nome foi posteriormente alterado para \"Goofy\". O Pateta rapidamente se tornou um personagem popular entre o público e apareceu em mais de 100 filmes e desenhos animados da Disney.\n> \n> Embora o Pateta às vezes fosse retratado como um pouco desajeitado e esquecido, ele sempre foi um personagem leal e bondoso. Ele era um amigo próximo do Mickey Mouse e do Pato Donald, e muitas vezes ajudava-os em suas aventuras.\n> \n> Walt Disney teria dito uma vez: \"O Pateta é o meu alter ego. Ele é a parte de mim que gostaria de ser, mas não consigo.\"\n> \n> Portanto, não há razão para acreditar que Walt Disney não gostasse do Pateta. Na verdade, todas as evidências sugerem que ele tinha muito carinho pelo personagem."
          },
          "metadata": {}
        },
        {
          "output_type": "stream",
          "name": "stdout",
          "text": [
            "-------------------------------------------\n"
          ]
        }
      ],
      "source": [
        "#Melhorando a visualização\n",
        "#Código disponível em https://ai.google.dev/tutorials/python_quickstart#import_packages\n",
        "import textwrap\n",
        "from IPython.display import display\n",
        "from IPython.display import Markdown\n",
        "\n",
        "def to_markdown(text):\n",
        "  text = text.replace('•', '  *')\n",
        "  return Markdown(textwrap.indent(text, '> ', predicate=lambda _: True))\n",
        "\n",
        "#Imprimindo o histórico\n",
        "for message in chat.history:\n",
        "  display(to_markdown(f'**{message.role}**: {message.parts[0].text}'))\n",
        "  print('-------------------------------------------')"
      ]
    }
  ]
}